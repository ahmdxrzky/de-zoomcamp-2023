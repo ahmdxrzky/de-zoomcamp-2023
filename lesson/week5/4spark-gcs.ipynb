{
 "cells": [
  {
   "cell_type": "code",
   "execution_count": 7,
   "metadata": {},
   "outputs": [
    {
     "name": "stdout",
     "output_type": "stream",
     "text": [
      "Copying file://data/green/2020/03/part-00002-37d818fc-721c-4016-b1a1-13df50fea7aa-c000.snappy.parquet [Content-Type=application/octet-stream]...\n",
      "Copying file://data/green/2020/03/._SUCCESS.crc [Content-Type=application/octet-stream]...\n",
      "Copying file://data/green/2020/03/part-00003-37d818fc-721c-4016-b1a1-13df50fea7aa-c000.snappy.parquet [Content-Type=application/octet-stream]...\n",
      "Copying file://data/green/2020/03/.part-00001-37d818fc-721c-4016-b1a1-13df50fea7aa-c000.snappy.parquet.crc [Content-Type=application/octet-stream]...\n",
      "Copying file://data/green/2020/03/.part-00003-37d818fc-721c-4016-b1a1-13df50fea7aa-c000.snappy.parquet.crc [Content-Type=application/octet-stream]...\n",
      "Copying file://data/green/2020/03/.part-00002-37d818fc-721c-4016-b1a1-13df50fea7aa-c000.snappy.parquet.crc [Content-Type=application/octet-stream]...\n",
      "Copying file://data/green/2020/03/part-00000-37d818fc-721c-4016-b1a1-13df50fea7aa-c000.snappy.parquet [Content-Type=application/octet-stream]...\n",
      "Copying file://data/green/2020/03/part-00001-37d818fc-721c-4016-b1a1-13df50fea7aa-c000.snappy.parquet [Content-Type=application/octet-stream]...\n",
      "Copying file://data/green/2020/03/.part-00000-37d818fc-721c-4016-b1a1-13df50fea7aa-c000.snappy.parquet.crc [Content-Type=application/octet-stream]...\n",
      "Copying file://data/green/2020/03/_SUCCESS [Content-Type=application/octet-stream]...\n",
      "Copying file://data/green/2020/09/.part-00001-873e63fa-8ea8-42c9-ba6b-2afcd1f066b1-c000.snappy.parquet.crc [Content-Type=application/octet-stream]...\n",
      "Copying file://data/green/2020/09/._SUCCESS.crc [Content-Type=application/octet-stream]...\n",
      "Copying file://data/green/2020/09/.part-00003-873e63fa-8ea8-42c9-ba6b-2afcd1f066b1-c000.snappy.parquet.crc [Content-Type=application/octet-stream]...\n",
      "Copying file://data/green/2020/09/part-00000-873e63fa-8ea8-42c9-ba6b-2afcd1f066b1-c000.snappy.parquet [Content-Type=application/octet-stream]...\n",
      "Copying file://data/green/2020/09/part-00001-873e63fa-8ea8-42c9-ba6b-2afcd1f066b1-c000.snappy.parquet [Content-Type=application/octet-stream]...\n",
      "Copying file://data/green/2020/09/.part-00002-873e63fa-8ea8-42c9-ba6b-2afcd1f066b1-c000.snappy.parquet.crc [Content-Type=application/octet-stream]...\n",
      "Copying file://data/green/2020/09/.part-00000-873e63fa-8ea8-42c9-ba6b-2afcd1f066b1-c000.snappy.parquet.crc [Content-Type=application/octet-stream]...\n",
      "Copying file://data/green/2020/09/_SUCCESS [Content-Type=application/octet-stream]...\n",
      "Copying file://data/green/2020/09/part-00003-873e63fa-8ea8-42c9-ba6b-2afcd1f066b1-c000.snappy.parquet [Content-Type=application/octet-stream]...\n",
      "Copying file://data/green/2020/09/part-00002-873e63fa-8ea8-42c9-ba6b-2afcd1f066b1-c000.snappy.parquet [Content-Type=application/octet-stream]...\n",
      "Copying file://data/green/2020/01/.part-00001-ba6dff2c-5476-4788-af7e-5340e3a0cbcc-c000.snappy.parquet.crc [Content-Type=application/octet-stream]...\n",
      "Copying file://data/green/2020/01/._SUCCESS.crc [Content-Type=application/octet-stream]...\n",
      "Copying file://data/green/2020/01/part-00002-ba6dff2c-5476-4788-af7e-5340e3a0cbcc-c000.snappy.parquet [Content-Type=application/octet-stream]...\n",
      "Copying file://data/green/2020/01/.part-00003-ba6dff2c-5476-4788-af7e-5340e3a0cbcc-c000.snappy.parquet.crc [Content-Type=application/octet-stream]...\n",
      "Copying file://data/green/2020/01/part-00003-ba6dff2c-5476-4788-af7e-5340e3a0cbcc-c000.snappy.parquet [Content-Type=application/octet-stream]...\n",
      "Copying file://data/green/2020/01/.part-00002-ba6dff2c-5476-4788-af7e-5340e3a0cbcc-c000.snappy.parquet.crc [Content-Type=application/octet-stream]...\n",
      "Copying file://data/green/2020/01/part-00000-ba6dff2c-5476-4788-af7e-5340e3a0cbcc-c000.snappy.parquet [Content-Type=application/octet-stream]...\n",
      "Copying file://data/green/2020/01/_SUCCESS [Content-Type=application/octet-stream]...\n",
      "Copying file://data/green/2020/01/part-00001-ba6dff2c-5476-4788-af7e-5340e3a0cbcc-c000.snappy.parquet [Content-Type=application/octet-stream]...\n",
      "Copying file://data/green/2020/01/.part-00000-ba6dff2c-5476-4788-af7e-5340e3a0cbcc-c000.snappy.parquet.crc [Content-Type=application/octet-stream]...\n",
      "Copying file://data/green/2020/10/part-00001-b1941750-a51f-4e0c-bdcd-6db22d7dd010-c000.snappy.parquet [Content-Type=application/octet-stream]...\n",
      "Copying file://data/green/2020/10/part-00002-b1941750-a51f-4e0c-bdcd-6db22d7dd010-c000.snappy.parquet [Content-Type=application/octet-stream]...\n",
      "Copying file://data/green/2020/10/._SUCCESS.crc [Content-Type=application/octet-stream]...\n",
      "Copying file://data/green/2020/10/.part-00000-b1941750-a51f-4e0c-bdcd-6db22d7dd010-c000.snappy.parquet.crc [Content-Type=application/octet-stream]...\n",
      "Copying file://data/green/2020/10/part-00000-b1941750-a51f-4e0c-bdcd-6db22d7dd010-c000.snappy.parquet [Content-Type=application/octet-stream]...\n",
      "Copying file://data/green/2020/10/part-00003-b1941750-a51f-4e0c-bdcd-6db22d7dd010-c000.snappy.parquet [Content-Type=application/octet-stream]...\n",
      "Copying file://data/green/2020/10/.part-00002-b1941750-a51f-4e0c-bdcd-6db22d7dd010-c000.snappy.parquet.crc [Content-Type=application/octet-stream]...\n",
      "Copying file://data/green/2020/10/_SUCCESS [Content-Type=application/octet-stream]...\n",
      "Copying file://data/green/2020/10/.part-00003-b1941750-a51f-4e0c-bdcd-6db22d7dd010-c000.snappy.parquet.crc [Content-Type=application/octet-stream]...\n",
      "Copying file://data/green/2020/10/.part-00001-b1941750-a51f-4e0c-bdcd-6db22d7dd010-c000.snappy.parquet.crc [Content-Type=application/octet-stream]...\n",
      "Copying file://data/green/2020/12/part-00001-381f53ef-ef87-4740-8b40-06912bc2e3d4-c000.snappy.parquet [Content-Type=application/octet-stream]...\n",
      "Copying file://data/green/2020/12/._SUCCESS.crc [Content-Type=application/octet-stream]...\n",
      "Copying file://data/green/2020/12/.part-00000-381f53ef-ef87-4740-8b40-06912bc2e3d4-c000.snappy.parquet.crc [Content-Type=application/octet-stream]...\n",
      "Copying file://data/green/2020/12/part-00002-381f53ef-ef87-4740-8b40-06912bc2e3d4-c000.snappy.parquet [Content-Type=application/octet-stream]...\n",
      "Copying file://data/green/2020/12/_SUCCESS [Content-Type=application/octet-stream]...\n",
      "Copying file://data/green/2020/12/.part-00003-381f53ef-ef87-4740-8b40-06912bc2e3d4-c000.snappy.parquet.crc [Content-Type=application/octet-stream]...\n",
      "Copying file://data/green/2020/12/part-00000-381f53ef-ef87-4740-8b40-06912bc2e3d4-c000.snappy.parquet [Content-Type=application/octet-stream]...\n",
      "Copying file://data/green/2020/12/part-00003-381f53ef-ef87-4740-8b40-06912bc2e3d4-c000.snappy.parquet [Content-Type=application/octet-stream]...\n",
      "Copying file://data/green/2020/12/.part-00002-381f53ef-ef87-4740-8b40-06912bc2e3d4-c000.snappy.parquet.crc [Content-Type=application/octet-stream]...\n",
      "Copying file://data/green/2020/12/.part-00001-381f53ef-ef87-4740-8b40-06912bc2e3d4-c000.snappy.parquet.crc [Content-Type=application/octet-stream]...\n",
      "Copying file://data/green/2020/07/.part-00000-ebe6f0e8-bc46-4ed4-968f-b72a510ddffe-c000.snappy.parquet.crc [Content-Type=application/octet-stream]...\n",
      "Copying file://data/green/2020/07/._SUCCESS.crc [Content-Type=application/octet-stream]...\n",
      "Copying file://data/green/2020/07/part-00002-ebe6f0e8-bc46-4ed4-968f-b72a510ddffe-c000.snappy.parquet [Content-Type=application/octet-stream]...\n",
      "Copying file://data/green/2020/07/.part-00003-ebe6f0e8-bc46-4ed4-968f-b72a510ddffe-c000.snappy.parquet.crc [Content-Type=application/octet-stream]...\n",
      "Copying file://data/green/2020/07/.part-00001-ebe6f0e8-bc46-4ed4-968f-b72a510ddffe-c000.snappy.parquet.crc [Content-Type=application/octet-stream]...\n",
      "Copying file://data/green/2020/07/part-00003-ebe6f0e8-bc46-4ed4-968f-b72a510ddffe-c000.snappy.parquet [Content-Type=application/octet-stream]...\n",
      "Copying file://data/green/2020/07/.part-00002-ebe6f0e8-bc46-4ed4-968f-b72a510ddffe-c000.snappy.parquet.crc [Content-Type=application/octet-stream]...\n",
      "Copying file://data/green/2020/07/_SUCCESS [Content-Type=application/octet-stream]...\n",
      "Copying file://data/green/2020/07/part-00000-ebe6f0e8-bc46-4ed4-968f-b72a510ddffe-c000.snappy.parquet [Content-Type=application/octet-stream]...\n",
      "Copying file://data/green/2020/07/part-00001-ebe6f0e8-bc46-4ed4-968f-b72a510ddffe-c000.snappy.parquet [Content-Type=application/octet-stream]...\n",
      "Copying file://data/green/2020/11/.part-00001-fb97a6ed-9937-45d5-8dc9-ccbebf1ede7f-c000.snappy.parquet.crc [Content-Type=application/octet-stream]...\n",
      "Copying file://data/green/2020/11/._SUCCESS.crc [Content-Type=application/octet-stream]...\n",
      "Copying file://data/green/2020/11/.part-00003-fb97a6ed-9937-45d5-8dc9-ccbebf1ede7f-c000.snappy.parquet.crc [Content-Type=application/octet-stream]...\n",
      "Copying file://data/green/2020/11/.part-00002-fb97a6ed-9937-45d5-8dc9-ccbebf1ede7f-c000.snappy.parquet.crc [Content-Type=application/octet-stream]...\n",
      "Copying file://data/green/2020/11/part-00003-fb97a6ed-9937-45d5-8dc9-ccbebf1ede7f-c000.snappy.parquet [Content-Type=application/octet-stream]...\n",
      "Copying file://data/green/2020/11/part-00001-fb97a6ed-9937-45d5-8dc9-ccbebf1ede7f-c000.snappy.parquet [Content-Type=application/octet-stream]...\n",
      "Copying file://data/green/2020/11/_SUCCESS [Content-Type=application/octet-stream]...\n",
      "Copying file://data/green/2020/11/.part-00000-fb97a6ed-9937-45d5-8dc9-ccbebf1ede7f-c000.snappy.parquet.crc [Content-Type=application/octet-stream]...\n",
      "Copying file://data/green/2020/11/part-00002-fb97a6ed-9937-45d5-8dc9-ccbebf1ede7f-c000.snappy.parquet [Content-Type=application/octet-stream]...\n",
      "Copying file://data/green/2020/11/part-00000-fb97a6ed-9937-45d5-8dc9-ccbebf1ede7f-c000.snappy.parquet [Content-Type=application/octet-stream]...\n",
      "Copying file://data/green/2020/05/part-00002-938b78fd-7f08-4256-adeb-ac6de8cde08e-c000.snappy.parquet [Content-Type=application/octet-stream]...\n",
      "Copying file://data/green/2020/05/.part-00003-938b78fd-7f08-4256-adeb-ac6de8cde08e-c000.snappy.parquet.crc [Content-Type=application/octet-stream]...\n",
      "Copying file://data/green/2020/05/.part-00000-938b78fd-7f08-4256-adeb-ac6de8cde08e-c000.snappy.parquet.crc [Content-Type=application/octet-stream]...\n",
      "Copying file://data/green/2020/05/._SUCCESS.crc [Content-Type=application/octet-stream]...\n",
      "Copying file://data/green/2020/05/part-00001-938b78fd-7f08-4256-adeb-ac6de8cde08e-c000.snappy.parquet [Content-Type=application/octet-stream]...\n",
      "Copying file://data/green/2020/05/part-00000-938b78fd-7f08-4256-adeb-ac6de8cde08e-c000.snappy.parquet [Content-Type=application/octet-stream]...\n",
      "Copying file://data/green/2020/05/.part-00002-938b78fd-7f08-4256-adeb-ac6de8cde08e-c000.snappy.parquet.crc [Content-Type=application/octet-stream]...\n",
      "Copying file://data/green/2020/05/_SUCCESS [Content-Type=application/octet-stream]...\n",
      "Copying file://data/green/2020/05/part-00003-938b78fd-7f08-4256-adeb-ac6de8cde08e-c000.snappy.parquet [Content-Type=application/octet-stream]...\n",
      "Copying file://data/green/2020/05/.part-00001-938b78fd-7f08-4256-adeb-ac6de8cde08e-c000.snappy.parquet.crc [Content-Type=application/octet-stream]...\n",
      "Copying file://data/green/2020/04/part-00001-8510230d-0646-445c-9f2a-16075109f8b9-c000.snappy.parquet [Content-Type=application/octet-stream]...\n",
      "Copying file://data/green/2020/04/._SUCCESS.crc [Content-Type=application/octet-stream]...\n",
      "Copying file://data/green/2020/04/part-00003-8510230d-0646-445c-9f2a-16075109f8b9-c000.snappy.parquet [Content-Type=application/octet-stream]...\n",
      "Copying file://data/green/2020/04/.part-00001-8510230d-0646-445c-9f2a-16075109f8b9-c000.snappy.parquet.crc [Content-Type=application/octet-stream]...\n",
      "Copying file://data/green/2020/04/_SUCCESS [Content-Type=application/octet-stream]...\n",
      "Copying file://data/green/2020/04/.part-00003-8510230d-0646-445c-9f2a-16075109f8b9-c000.snappy.parquet.crc [Content-Type=application/octet-stream]...\n",
      "Copying file://data/green/2020/04/part-00002-8510230d-0646-445c-9f2a-16075109f8b9-c000.snappy.parquet [Content-Type=application/octet-stream]...\n",
      "Copying file://data/green/2020/04/part-00000-8510230d-0646-445c-9f2a-16075109f8b9-c000.snappy.parquet [Content-Type=application/octet-stream]...\n",
      "Copying file://data/green/2020/04/.part-00002-8510230d-0646-445c-9f2a-16075109f8b9-c000.snappy.parquet.crc [Content-Type=application/octet-stream]...\n",
      "Copying file://data/green/2020/04/.part-00000-8510230d-0646-445c-9f2a-16075109f8b9-c000.snappy.parquet.crc [Content-Type=application/octet-stream]...\n",
      "Copying file://data/green/2020/08/part-00002-d29798f6-ce7b-4b80-b5b3-39e154a33d89-c000.snappy.parquet [Content-Type=application/octet-stream]...\n",
      "Copying file://data/green/2020/08/.part-00003-d29798f6-ce7b-4b80-b5b3-39e154a33d89-c000.snappy.parquet.crc [Content-Type=application/octet-stream]...\n",
      "Copying file://data/green/2020/08/.part-00002-d29798f6-ce7b-4b80-b5b3-39e154a33d89-c000.snappy.parquet.crc [Content-Type=application/octet-stream]...\n",
      "Copying file://data/green/2020/08/._SUCCESS.crc [Content-Type=application/octet-stream]...\n",
      "Copying file://data/green/2020/08/part-00001-d29798f6-ce7b-4b80-b5b3-39e154a33d89-c000.snappy.parquet [Content-Type=application/octet-stream]...\n",
      "Copying file://data/green/2020/08/part-00000-d29798f6-ce7b-4b80-b5b3-39e154a33d89-c000.snappy.parquet [Content-Type=application/octet-stream]...\n",
      "Copying file://data/green/2020/08/part-00003-d29798f6-ce7b-4b80-b5b3-39e154a33d89-c000.snappy.parquet [Content-Type=application/octet-stream]...\n",
      "Copying file://data/green/2020/08/_SUCCESS [Content-Type=application/octet-stream]...\n",
      "Copying file://data/green/2020/08/.part-00001-d29798f6-ce7b-4b80-b5b3-39e154a33d89-c000.snappy.parquet.crc [Content-Type=application/octet-stream]...\n",
      "Copying file://data/green/2020/08/.part-00000-d29798f6-ce7b-4b80-b5b3-39e154a33d89-c000.snappy.parquet.crc [Content-Type=application/octet-stream]...\n",
      "Copying file://data/green/2020/06/.part-00002-5ac89986-e0ed-48ac-9480-4d7a4cd24305-c000.snappy.parquet.crc [Content-Type=application/octet-stream]...\n",
      "Copying file://data/green/2020/06/.part-00000-5ac89986-e0ed-48ac-9480-4d7a4cd24305-c000.snappy.parquet.crc [Content-Type=application/octet-stream]...\n",
      "Copying file://data/green/2020/06/.part-00001-5ac89986-e0ed-48ac-9480-4d7a4cd24305-c000.snappy.parquet.crc [Content-Type=application/octet-stream]...\n",
      "Copying file://data/green/2020/06/part-00003-5ac89986-e0ed-48ac-9480-4d7a4cd24305-c000.snappy.parquet [Content-Type=application/octet-stream]...\n",
      "Copying file://data/green/2020/06/._SUCCESS.crc [Content-Type=application/octet-stream]...\n",
      "Copying file://data/green/2020/06/part-00002-5ac89986-e0ed-48ac-9480-4d7a4cd24305-c000.snappy.parquet [Content-Type=application/octet-stream]...\n",
      "Copying file://data/green/2020/06/part-00000-5ac89986-e0ed-48ac-9480-4d7a4cd24305-c000.snappy.parquet [Content-Type=application/octet-stream]...\n",
      "Copying file://data/green/2020/06/part-00001-5ac89986-e0ed-48ac-9480-4d7a4cd24305-c000.snappy.parquet [Content-Type=application/octet-stream]...\n",
      "Copying file://data/green/2020/06/_SUCCESS [Content-Type=application/octet-stream]...\n",
      "Copying file://data/green/2020/06/.part-00003-5ac89986-e0ed-48ac-9480-4d7a4cd24305-c000.snappy.parquet.crc [Content-Type=application/octet-stream]...\n",
      "Copying file://data/green/2020/02/part-00000-b97b3c09-5885-4c31-b34d-d50bb313238c-c000.snappy.parquet [Content-Type=application/octet-stream]...\n",
      "Copying file://data/green/2020/02/._SUCCESS.crc [Content-Type=application/octet-stream]...\n",
      "Copying file://data/green/2020/02/.part-00003-b97b3c09-5885-4c31-b34d-d50bb313238c-c000.snappy.parquet.crc [Content-Type=application/octet-stream]...\n",
      "Copying file://data/green/2020/02/.part-00002-b97b3c09-5885-4c31-b34d-d50bb313238c-c000.snappy.parquet.crc [Content-Type=application/octet-stream]...\n",
      "Copying file://data/green/2020/02/part-00002-b97b3c09-5885-4c31-b34d-d50bb313238c-c000.snappy.parquet [Content-Type=application/octet-stream]...\n",
      "Copying file://data/green/2020/02/part-00003-b97b3c09-5885-4c31-b34d-d50bb313238c-c000.snappy.parquet [Content-Type=application/octet-stream]...\n",
      "Copying file://data/green/2020/02/_SUCCESS [Content-Type=application/octet-stream]...\n",
      "Copying file://data/green/2020/02/.part-00000-b97b3c09-5885-4c31-b34d-d50bb313238c-c000.snappy.parquet.crc [Content-Type=application/octet-stream]...\n",
      "Copying file://data/green/2020/02/part-00001-b97b3c09-5885-4c31-b34d-d50bb313238c-c000.snappy.parquet [Content-Type=application/octet-stream]...\n",
      "Copying file://data/green/2020/02/.part-00001-b97b3c09-5885-4c31-b34d-d50bb313238c-c000.snappy.parquet.crc [Content-Type=application/octet-stream]...\n",
      "Copying file://data/green/2021/03/.part-00000-7eb654fd-4694-443f-93a5-015825b47d97-c000.snappy.parquet.crc [Content-Type=application/octet-stream]...\n",
      "Copying file://data/green/2021/03/part-00002-7eb654fd-4694-443f-93a5-015825b47d97-c000.snappy.parquet [Content-Type=application/octet-stream]...\n",
      "Copying file://data/green/2021/03/._SUCCESS.crc [Content-Type=application/octet-stream]...\n",
      "Copying file://data/green/2021/03/.part-00003-7eb654fd-4694-443f-93a5-015825b47d97-c000.snappy.parquet.crc [Content-Type=application/octet-stream]...\n",
      "Copying file://data/green/2021/03/part-00000-7eb654fd-4694-443f-93a5-015825b47d97-c000.snappy.parquet [Content-Type=application/octet-stream]...\n",
      "Copying file://data/green/2021/03/_SUCCESS [Content-Type=application/octet-stream]...\n",
      "Copying file://data/green/2021/03/.part-00002-7eb654fd-4694-443f-93a5-015825b47d97-c000.snappy.parquet.crc [Content-Type=application/octet-stream]...\n",
      "Copying file://data/green/2021/03/part-00001-7eb654fd-4694-443f-93a5-015825b47d97-c000.snappy.parquet [Content-Type=application/octet-stream]...\n",
      "Copying file://data/green/2021/03/part-00003-7eb654fd-4694-443f-93a5-015825b47d97-c000.snappy.parquet [Content-Type=application/octet-stream]...\n",
      "Copying file://data/green/2021/03/.part-00001-7eb654fd-4694-443f-93a5-015825b47d97-c000.snappy.parquet.crc [Content-Type=application/octet-stream]...\n",
      "Copying file://data/green/2021/01/.part-00002-8f397bc3-42da-4f1e-b9d4-adcfb9b1eed7-c000.snappy.parquet.crc [Content-Type=application/octet-stream]...\n",
      "Copying file://data/green/2021/01/part-00003-8f397bc3-42da-4f1e-b9d4-adcfb9b1eed7-c000.snappy.parquet [Content-Type=application/octet-stream]...\n",
      "Copying file://data/green/2021/01/.part-00001-8f397bc3-42da-4f1e-b9d4-adcfb9b1eed7-c000.snappy.parquet.crc [Content-Type=application/octet-stream]...\n",
      "Copying file://data/green/2021/01/._SUCCESS.crc [Content-Type=application/octet-stream]...\n",
      "Copying file://data/green/2021/01/part-00000-8f397bc3-42da-4f1e-b9d4-adcfb9b1eed7-c000.snappy.parquet [Content-Type=application/octet-stream]...\n",
      "Copying file://data/green/2021/01/_SUCCESS [Content-Type=application/octet-stream]...\n",
      "Copying file://data/green/2021/01/.part-00003-8f397bc3-42da-4f1e-b9d4-adcfb9b1eed7-c000.snappy.parquet.crc [Content-Type=application/octet-stream]...\n",
      "Copying file://data/green/2021/01/.part-00000-8f397bc3-42da-4f1e-b9d4-adcfb9b1eed7-c000.snappy.parquet.crc [Content-Type=application/octet-stream]...\n",
      "Copying file://data/green/2021/01/part-00001-8f397bc3-42da-4f1e-b9d4-adcfb9b1eed7-c000.snappy.parquet [Content-Type=application/octet-stream]...\n",
      "Copying file://data/green/2021/01/part-00002-8f397bc3-42da-4f1e-b9d4-adcfb9b1eed7-c000.snappy.parquet [Content-Type=application/octet-stream]...\n",
      "Copying file://data/green/2021/07/._SUCCESS.crc [Content-Type=application/octet-stream]...\n",
      "Copying file://data/green/2021/07/.part-00003-14a07083-e753-4c63-a2be-d54fa9551f49-c000.snappy.parquet.crc [Content-Type=application/octet-stream]...\n",
      "Copying file://data/green/2021/07/part-00002-14a07083-e753-4c63-a2be-d54fa9551f49-c000.snappy.parquet [Content-Type=application/octet-stream]...\n",
      "Copying file://data/green/2021/07/part-00001-14a07083-e753-4c63-a2be-d54fa9551f49-c000.snappy.parquet [Content-Type=application/octet-stream]...\n",
      "Copying file://data/green/2021/07/.part-00002-14a07083-e753-4c63-a2be-d54fa9551f49-c000.snappy.parquet.crc [Content-Type=application/octet-stream]...\n",
      "Copying file://data/green/2021/07/_SUCCESS [Content-Type=application/octet-stream]...\n",
      "Copying file://data/green/2021/07/.part-00001-14a07083-e753-4c63-a2be-d54fa9551f49-c000.snappy.parquet.crc [Content-Type=application/octet-stream]...\n",
      "Copying file://data/green/2021/07/part-00000-14a07083-e753-4c63-a2be-d54fa9551f49-c000.snappy.parquet [Content-Type=application/octet-stream]...\n",
      "Copying file://data/green/2021/07/part-00003-14a07083-e753-4c63-a2be-d54fa9551f49-c000.snappy.parquet [Content-Type=application/octet-stream]...\n",
      "Copying file://data/green/2021/07/.part-00000-14a07083-e753-4c63-a2be-d54fa9551f49-c000.snappy.parquet.crc [Content-Type=application/octet-stream]...\n",
      "Copying file://data/green/2021/05/.part-00002-35a2a520-42e8-4ad9-8a17-7fc2450f2342-c000.snappy.parquet.crc [Content-Type=application/octet-stream]...\n",
      "Copying file://data/green/2021/05/part-00001-35a2a520-42e8-4ad9-8a17-7fc2450f2342-c000.snappy.parquet [Content-Type=application/octet-stream]...\n",
      "Copying file://data/green/2021/05/.part-00003-35a2a520-42e8-4ad9-8a17-7fc2450f2342-c000.snappy.parquet.crc [Content-Type=application/octet-stream]...\n",
      "Copying file://data/green/2021/05/._SUCCESS.crc [Content-Type=application/octet-stream]...\n",
      "Copying file://data/green/2021/05/part-00000-35a2a520-42e8-4ad9-8a17-7fc2450f2342-c000.snappy.parquet [Content-Type=application/octet-stream]...\n",
      "Copying file://data/green/2021/05/.part-00001-35a2a520-42e8-4ad9-8a17-7fc2450f2342-c000.snappy.parquet.crc [Content-Type=application/octet-stream]...\n",
      "Copying file://data/green/2021/05/part-00003-35a2a520-42e8-4ad9-8a17-7fc2450f2342-c000.snappy.parquet [Content-Type=application/octet-stream]...\n",
      "Copying file://data/green/2021/05/_SUCCESS [Content-Type=application/octet-stream]...\n",
      "Copying file://data/green/2021/05/part-00002-35a2a520-42e8-4ad9-8a17-7fc2450f2342-c000.snappy.parquet [Content-Type=application/octet-stream]...\n",
      "Copying file://data/green/2021/05/.part-00000-35a2a520-42e8-4ad9-8a17-7fc2450f2342-c000.snappy.parquet.crc [Content-Type=application/octet-stream]...\n",
      "Copying file://data/green/2021/04/part-00000-4c214d28-451c-4499-ad1c-72970c0abdc0-c000.snappy.parquet [Content-Type=application/octet-stream]...\n",
      "Copying file://data/green/2021/04/part-00003-4c214d28-451c-4499-ad1c-72970c0abdc0-c000.snappy.parquet [Content-Type=application/octet-stream]...\n",
      "Copying file://data/green/2021/04/._SUCCESS.crc [Content-Type=application/octet-stream]...\n",
      "Copying file://data/green/2021/04/.part-00000-4c214d28-451c-4499-ad1c-72970c0abdc0-c000.snappy.parquet.crc [Content-Type=application/octet-stream]...\n",
      "Copying file://data/green/2021/04/.part-00003-4c214d28-451c-4499-ad1c-72970c0abdc0-c000.snappy.parquet.crc [Content-Type=application/octet-stream]...\n",
      "Copying file://data/green/2021/04/part-00001-4c214d28-451c-4499-ad1c-72970c0abdc0-c000.snappy.parquet [Content-Type=application/octet-stream]...\n",
      "Copying file://data/green/2021/04/.part-00001-4c214d28-451c-4499-ad1c-72970c0abdc0-c000.snappy.parquet.crc [Content-Type=application/octet-stream]...\n",
      "Copying file://data/green/2021/04/.part-00002-4c214d28-451c-4499-ad1c-72970c0abdc0-c000.snappy.parquet.crc [Content-Type=application/octet-stream]...\n",
      "Copying file://data/green/2021/04/_SUCCESS [Content-Type=application/octet-stream]...\n",
      "Copying file://data/green/2021/04/part-00002-4c214d28-451c-4499-ad1c-72970c0abdc0-c000.snappy.parquet [Content-Type=application/octet-stream]...\n",
      "Copying file://data/green/2021/06/part-00003-d7fd25c6-eae9-4919-a392-65990e6a65a1-c000.snappy.parquet [Content-Type=application/octet-stream]...\n",
      "Copying file://data/green/2021/06/.part-00002-d7fd25c6-eae9-4919-a392-65990e6a65a1-c000.snappy.parquet.crc [Content-Type=application/octet-stream]...\n",
      "Copying file://data/green/2021/06/part-00000-d7fd25c6-eae9-4919-a392-65990e6a65a1-c000.snappy.parquet [Content-Type=application/octet-stream]...\n",
      "Copying file://data/green/2021/06/part-00001-d7fd25c6-eae9-4919-a392-65990e6a65a1-c000.snappy.parquet [Content-Type=application/octet-stream]...\n",
      "Copying file://data/green/2021/06/._SUCCESS.crc [Content-Type=application/octet-stream]...\n",
      "Copying file://data/green/2021/06/part-00002-d7fd25c6-eae9-4919-a392-65990e6a65a1-c000.snappy.parquet [Content-Type=application/octet-stream]...\n",
      "Copying file://data/green/2021/06/.part-00003-d7fd25c6-eae9-4919-a392-65990e6a65a1-c000.snappy.parquet.crc [Content-Type=application/octet-stream]...\n",
      "Copying file://data/green/2021/06/.part-00001-d7fd25c6-eae9-4919-a392-65990e6a65a1-c000.snappy.parquet.crc [Content-Type=application/octet-stream]...\n",
      "Copying file://data/green/2021/06/_SUCCESS [Content-Type=application/octet-stream]...\n",
      "Copying file://data/green/2021/06/.part-00000-d7fd25c6-eae9-4919-a392-65990e6a65a1-c000.snappy.parquet.crc [Content-Type=application/octet-stream]...\n",
      "Copying file://data/green/2021/02/.part-00002-73cde0ef-1951-4e8b-8784-9d9006e1bbb3-c000.snappy.parquet.crc [Content-Type=application/octet-stream]...\n",
      "Copying file://data/green/2021/02/.part-00000-73cde0ef-1951-4e8b-8784-9d9006e1bbb3-c000.snappy.parquet.crc [Content-Type=application/octet-stream]...\n",
      "Copying file://data/green/2021/02/part-00000-73cde0ef-1951-4e8b-8784-9d9006e1bbb3-c000.snappy.parquet [Content-Type=application/octet-stream]...\n",
      "Copying file://data/green/2021/02/._SUCCESS.crc [Content-Type=application/octet-stream]...\n",
      "Copying file://data/green/2021/02/.part-00003-73cde0ef-1951-4e8b-8784-9d9006e1bbb3-c000.snappy.parquet.crc [Content-Type=application/octet-stream]...\n",
      "Copying file://data/green/2021/02/_SUCCESS [Content-Type=application/octet-stream]...\n",
      "Copying file://data/green/2021/02/part-00001-73cde0ef-1951-4e8b-8784-9d9006e1bbb3-c000.snappy.parquet [Content-Type=application/octet-stream]...\n",
      "Copying file://data/green/2021/02/part-00003-73cde0ef-1951-4e8b-8784-9d9006e1bbb3-c000.snappy.parquet [Content-Type=application/octet-stream]...\n",
      "Copying file://data/green/2021/02/.part-00001-73cde0ef-1951-4e8b-8784-9d9006e1bbb3-c000.snappy.parquet.crc [Content-Type=application/octet-stream]...\n",
      "Copying file://data/green/2021/02/part-00002-73cde0ef-1951-4e8b-8784-9d9006e1bbb3-c000.snappy.parquet [Content-Type=application/octet-stream]...\n",
      "/ [190/190 files][ 63.4 MiB/ 63.4 MiB] 100% Done   2.1 MiB/s ETA 00:00:00       \n",
      "Operation completed over 190 objects/63.4 MiB.                                   \n"
     ]
    }
   ],
   "source": [
    "!gsutil -m cp -r data/ gs://de-zoomcamp-prefect-2023/data-parquet"
   ]
  },
  {
   "cell_type": "code",
   "execution_count": 1,
   "metadata": {},
   "outputs": [],
   "source": [
    "import pyspark\n",
    "from pyspark.sql import SparkSession\n",
    "from pyspark.conf import SparkConf\n",
    "from pyspark.context import SparkContext"
   ]
  },
  {
   "cell_type": "code",
   "execution_count": 2,
   "metadata": {},
   "outputs": [],
   "source": [
    "conf = SparkConf() \\\n",
    "    .setMaster('local[*]') \\\n",
    "    .setAppName('test') \\\n",
    "    .set(\"spark.jars\", \"./lib/gcs-connector-hadoop3-2.2.5.jar\") \\\n",
    "    .set(\"spark.hadoop.google.cloud.auth.service.account.enable\", \"true\") \\\n",
    "    .set(\"spark.hadoop.google.cloud.auth.service.account.json.keyfile\", \"/home/rizky/spark/de-zoomcamp-375916-d3bc8537cc2.json\")"
   ]
  },
  {
   "cell_type": "code",
   "execution_count": 3,
   "metadata": {},
   "outputs": [
    {
     "name": "stdout",
     "output_type": "stream",
     "text": [
      "23/03/04 12:45:07 WARN NativeCodeLoader: Unable to load native-hadoop library for your platform... using builtin-java classes where applicable\n"
     ]
    },
    {
     "name": "stderr",
     "output_type": "stream",
     "text": [
      "Setting default log level to \"WARN\".\n",
      "To adjust logging level use sc.setLogLevel(newLevel). For SparkR, use setLogLevel(newLevel).\n"
     ]
    },
    {
     "name": "stdout",
     "output_type": "stream",
     "text": [
      "23/03/04 12:45:07 WARN SparkConf: Note that spark.local.dir will be overridden by the value set by the cluster manager (via SPARK_LOCAL_DIRS in mesos/standalone/kubernetes and LOCAL_DIRS in YARN).\n"
     ]
    }
   ],
   "source": [
    "sc = SparkContext(conf=conf)\n",
    "hadoop_conf = sc._jsc.hadoopConfiguration()\n",
    "\n",
    "hadoop_conf.set(\"fs.AbstractFileSystem.gs.impl\", \"com.google.cloud.hadoop.fs.gcs.GoogleHadoopFS\")\n",
    "hadoop_conf.set(\"fs.gs.impl\", \"com.google.cloud.hadoop.fs.gcs.GoogleHadoopFileSystem\")\n",
    "hadoop_conf.set(\"fs.gs.auth.service.account.json.keyfile\", \"/home/rizky/spark/de-zoomcamp-375916-d3bc8537cc2.json\")\n",
    "hadoop_conf.set(\"fs.gs.auth.service.account.enable\", \"true\")"
   ]
  },
  {
   "cell_type": "code",
   "execution_count": 5,
   "metadata": {},
   "outputs": [],
   "source": [
    "spark = SparkSession.builder \\\n",
    "    .config(conf=sc.getConf()) \\\n",
    "    .getOrCreate()"
   ]
  },
  {
   "cell_type": "code",
   "execution_count": 6,
   "metadata": {},
   "outputs": [
    {
     "name": "stderr",
     "output_type": "stream",
     "text": [
      "                                                                                \r"
     ]
    }
   ],
   "source": [
    "df_green = spark.read.parquet(\"gs://de-zoomcamp-prefect-2023/data-parquet/green/*/*\")"
   ]
  },
  {
   "cell_type": "code",
   "execution_count": 8,
   "metadata": {},
   "outputs": [
    {
     "name": "stderr",
     "output_type": "stream",
     "text": [
      "                                                                                \r"
     ]
    },
    {
     "data": {
      "text/plain": [
       "2304517"
      ]
     },
     "execution_count": 8,
     "metadata": {},
     "output_type": "execute_result"
    }
   ],
   "source": [
    "df_green.count()"
   ]
  },
  {
   "cell_type": "code",
   "execution_count": null,
   "metadata": {},
   "outputs": [],
   "source": []
  }
 ],
 "metadata": {
  "kernelspec": {
   "display_name": "env",
   "language": "python",
   "name": "python3"
  },
  "language_info": {
   "codemirror_mode": {
    "name": "ipython",
    "version": 3
   },
   "file_extension": ".py",
   "mimetype": "text/x-python",
   "name": "python",
   "nbconvert_exporter": "python",
   "pygments_lexer": "ipython3",
   "version": "3.9.2"
  },
  "orig_nbformat": 4
 },
 "nbformat": 4,
 "nbformat_minor": 2
}
