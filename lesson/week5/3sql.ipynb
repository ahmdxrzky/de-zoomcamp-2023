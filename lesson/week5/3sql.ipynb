{
 "cells": [
  {
   "cell_type": "code",
   "execution_count": 2,
   "metadata": {},
   "outputs": [
    {
     "name": "stderr",
     "output_type": "stream",
     "text": [
      "Setting default log level to \"WARN\".\n",
      "To adjust logging level use sc.setLogLevel(newLevel). For SparkR, use setLogLevel(newLevel).\n"
     ]
    },
    {
     "name": "stdout",
     "output_type": "stream",
     "text": [
      "23/03/03 02:08:41 WARN NativeCodeLoader: Unable to load native-hadoop library for your platform... using builtin-java classes where applicable\n",
      "23/03/03 02:08:41 WARN SparkConf: Note that spark.local.dir will be overridden by the value set by the cluster manager (via SPARK_LOCAL_DIRS in mesos/standalone/kubernetes and LOCAL_DIRS in YARN).\n"
     ]
    }
   ],
   "source": [
    "import pyspark\n",
    "from pyspark.sql import SparkSession\n",
    "import pandas as pd\n",
    "from pyspark.sql import types\n",
    "\n",
    "spark = SparkSession.builder \\\n",
    "    .master(\"local[*]\") \\\n",
    "    .appName('test') \\\n",
    "    .getOrCreate()"
   ]
  },
  {
   "cell_type": "code",
   "execution_count": 3,
   "metadata": {},
   "outputs": [
    {
     "name": "stderr",
     "output_type": "stream",
     "text": [
      "                                                                                \r"
     ]
    }
   ],
   "source": [
    "df_green = spark.read.parquet(\"data/green/*/*\")"
   ]
  },
  {
   "cell_type": "code",
   "execution_count": 4,
   "metadata": {},
   "outputs": [
    {
     "name": "stderr",
     "output_type": "stream",
     "text": [
      "                                                                                \r"
     ]
    },
    {
     "name": "stdout",
     "output_type": "stream",
     "text": [
      "+--------+--------------------+---------------------+------------------+----------+------------+------------+---------------+-------------+-----------+-----+-------+----------+------------+---------+---------------------+------------+------------+---------+--------------------+\n",
      "|VendorID|lpep_pickup_datetime|lpep_dropoff_datetime|store_and_fwd_flag|RatecodeID|PULocationID|DOLocationID|passenger_count|trip_distance|fare_amount|extra|mta_tax|tip_amount|tolls_amount|ehail_fee|improvement_surcharge|total_amount|payment_type|trip_type|congestion_surcharge|\n",
      "+--------+--------------------+---------------------+------------------+----------+------------+------------+---------------+-------------+-----------+-----+-------+----------+------------+---------+---------------------+------------+------------+---------+--------------------+\n",
      "|       2| 2020-01-23 13:10:15|  2020-01-23 13:38:16|                 N|         1|          74|         130|              1|        12.77|       36.0|  0.0|    0.5|      2.05|        6.12|     null|                  0.3|       44.97|           1|        1|                 0.0|\n",
      "|       2| 2020-01-15 16:56:36|  2020-01-15 17:19:05|                 N|         1|          97|          33|              1|         2.69|       15.0|  1.0|    0.5|       0.0|         0.0|     null|                  0.3|        16.8|           2|        1|                 0.0|\n",
      "|       1| 2020-01-16 05:55:12|  2020-01-16 06:30:08|                 N|         1|          82|          68|              1|         10.3|       33.5| 2.75|    0.5|       0.0|         6.0|     null|                  0.3|       43.05|           3|        1|                2.75|\n",
      "|       2| 2020-01-14 12:50:42|  2020-01-14 12:55:46|                 N|         1|          75|          74|              1|         1.31|        6.0|  0.0|    0.5|       0.0|         0.0|     null|                  0.3|         6.8|           1|        1|                 0.0|\n",
      "|       2| 2020-01-07 06:36:27|  2020-01-07 06:48:27|                 N|         1|         244|          74|              1|         3.05|       11.5|  0.0|    0.5|      3.08|         0.0|     null|                  0.3|       15.38|           1|        1|                 0.0|\n",
      "|       2| 2020-01-04 10:28:49|  2020-01-04 10:32:45|                 N|         1|          42|          41|              1|         0.77|        5.0|  0.0|    0.5|      1.16|         0.0|     null|                  0.3|        6.96|           1|        1|                 0.0|\n",
      "|       2| 2020-01-19 12:30:08|  2020-01-19 12:40:53|                 N|         1|          74|         166|              1|         1.93|        9.0|  0.0|    0.5|      1.96|         0.0|     null|                  0.3|       11.76|           1|        1|                 0.0|\n",
      "|       1| 2020-01-04 20:44:28|  2020-01-04 20:52:24|                 N|         1|         129|         129|              1|          2.2|        9.5|  0.5|    0.5|       2.0|         0.0|     null|                  0.3|        12.8|           1|        1|                 0.0|\n",
      "|       2| 2020-01-21 23:13:47|  2020-01-21 23:17:31|                 N|         1|          61|          61|              1|         0.85|        5.0|  0.5|    0.5|       0.0|         0.0|     null|                  0.3|         6.3|           2|        1|                 0.0|\n",
      "|       2| 2020-01-12 11:53:00|  2020-01-12 11:57:33|                 N|         1|           7|         179|              1|         0.92|        5.5|  0.0|    0.5|       0.0|         0.0|     null|                  0.3|         6.3|           2|        1|                 0.0|\n",
      "|       2| 2020-01-12 20:53:46|  2020-01-12 20:59:01|                 N|         1|          74|          42|              1|         1.33|        6.5|  0.5|    0.5|       0.0|         0.0|     null|                  0.3|         7.8|           2|        1|                 0.0|\n",
      "|       2| 2020-01-17 22:33:35|  2020-01-17 22:47:30|                 N|         1|          74|         140|              1|         3.02|       12.0|  0.5|    0.5|      3.21|         0.0|     null|                  0.3|       19.26|           1|        1|                2.75|\n",
      "|       2| 2020-01-05 11:46:31|  2020-01-05 11:53:31|                 N|         1|          17|          97|              1|          0.0|        5.5|  0.0|    0.5|       0.0|         0.0|     null|                  0.3|         6.3|           2|        1|                 0.0|\n",
      "|       2| 2020-01-17 12:03:20|  2020-01-17 12:08:28|                 N|         1|         166|         166|              1|          0.9|        5.5|  0.0|    0.5|       0.0|         0.0|     null|                  0.3|         6.3|           2|        1|                 0.0|\n",
      "|       2| 2020-01-08 23:22:35|  2020-01-08 23:27:05|                 N|         1|         210|         210|              1|         0.92|        5.5|  0.5|    0.5|       0.8|         0.0|     null|                  0.3|         7.6|           1|        1|                 0.0|\n",
      "|       2| 2020-01-10 22:39:31|  2020-01-10 22:47:32|                 N|         1|          95|         135|              1|         1.85|        8.5|  0.5|    0.5|      2.45|         0.0|     null|                  0.3|       12.25|           1|        1|                 0.0|\n",
      "|       2| 2020-01-03 21:19:11|  2020-01-03 21:35:10|                 N|         5|         196|          92|              1|         2.68|       22.0|  0.0|    0.0|      0.01|         0.0|     null|                  0.3|       22.31|           1|        2|                 0.0|\n",
      "|       2| 2020-01-17 16:15:44|  2020-01-17 16:21:30|                 N|         1|          42|          42|              1|         0.69|        6.0|  1.0|    0.5|       0.0|         0.0|     null|                  0.3|         7.8|           2|        1|                 0.0|\n",
      "|       1| 2020-01-06 05:02:38|  2020-01-06 05:16:27|                 N|         1|          76|          72|              1|          3.2|       12.5|  0.5|    0.5|       0.0|         0.0|     null|                  0.3|        13.8|           1|        1|                 0.0|\n",
      "|       2| 2020-01-03 08:00:47|  2020-01-03 08:15:39|                 N|         1|          39|          39|              1|          2.3|       12.0|  0.0|    0.5|       0.0|         0.0|     null|                  0.3|        12.8|           1|        1|                 0.0|\n",
      "+--------+--------------------+---------------------+------------------+----------+------------+------------+---------------+-------------+-----------+-----+-------+----------+------------+---------+---------------------+------------+------------+---------+--------------------+\n",
      "only showing top 20 rows\n",
      "\n"
     ]
    }
   ],
   "source": [
    "df_green.show()"
   ]
  },
  {
   "cell_type": "code",
   "execution_count": 5,
   "metadata": {},
   "outputs": [
    {
     "name": "stdout",
     "output_type": "stream",
     "text": [
      "root\n",
      " |-- VendorID: long (nullable = true)\n",
      " |-- lpep_pickup_datetime: timestamp (nullable = true)\n",
      " |-- lpep_dropoff_datetime: timestamp (nullable = true)\n",
      " |-- store_and_fwd_flag: string (nullable = true)\n",
      " |-- RatecodeID: integer (nullable = true)\n",
      " |-- PULocationID: integer (nullable = true)\n",
      " |-- DOLocationID: integer (nullable = true)\n",
      " |-- passenger_count: integer (nullable = true)\n",
      " |-- trip_distance: double (nullable = true)\n",
      " |-- fare_amount: double (nullable = true)\n",
      " |-- extra: double (nullable = true)\n",
      " |-- mta_tax: double (nullable = true)\n",
      " |-- tip_amount: double (nullable = true)\n",
      " |-- tolls_amount: double (nullable = true)\n",
      " |-- ehail_fee: double (nullable = true)\n",
      " |-- improvement_surcharge: double (nullable = true)\n",
      " |-- total_amount: double (nullable = true)\n",
      " |-- payment_type: integer (nullable = true)\n",
      " |-- trip_type: integer (nullable = true)\n",
      " |-- congestion_surcharge: double (nullable = true)\n",
      "\n"
     ]
    }
   ],
   "source": [
    "df_green.printSchema()"
   ]
  },
  {
   "cell_type": "code",
   "execution_count": 6,
   "metadata": {},
   "outputs": [],
   "source": [
    "df_green = df_green \\\n",
    "    .withColumnRenamed('lpep_pickup_datetime', 'pickup_datetime') \\\n",
    "    .withColumnRenamed('lpep_dropoff_datetime', 'dropoff_datetime')"
   ]
  },
  {
   "cell_type": "code",
   "execution_count": 7,
   "metadata": {},
   "outputs": [
    {
     "name": "stdout",
     "output_type": "stream",
     "text": [
      "root\n",
      " |-- VendorID: long (nullable = true)\n",
      " |-- pickup_datetime: timestamp (nullable = true)\n",
      " |-- dropoff_datetime: timestamp (nullable = true)\n",
      " |-- store_and_fwd_flag: string (nullable = true)\n",
      " |-- RatecodeID: integer (nullable = true)\n",
      " |-- PULocationID: integer (nullable = true)\n",
      " |-- DOLocationID: integer (nullable = true)\n",
      " |-- passenger_count: integer (nullable = true)\n",
      " |-- trip_distance: double (nullable = true)\n",
      " |-- fare_amount: double (nullable = true)\n",
      " |-- extra: double (nullable = true)\n",
      " |-- mta_tax: double (nullable = true)\n",
      " |-- tip_amount: double (nullable = true)\n",
      " |-- tolls_amount: double (nullable = true)\n",
      " |-- ehail_fee: double (nullable = true)\n",
      " |-- improvement_surcharge: double (nullable = true)\n",
      " |-- total_amount: double (nullable = true)\n",
      " |-- payment_type: integer (nullable = true)\n",
      " |-- trip_type: integer (nullable = true)\n",
      " |-- congestion_surcharge: double (nullable = true)\n",
      "\n"
     ]
    }
   ],
   "source": [
    "df_green.printSchema()"
   ]
  },
  {
   "cell_type": "code",
   "execution_count": 8,
   "metadata": {},
   "outputs": [
    {
     "name": "stderr",
     "output_type": "stream",
     "text": [
      "                                                                                \r"
     ]
    },
    {
     "data": {
      "text/plain": [
       "2304517"
      ]
     },
     "execution_count": 8,
     "metadata": {},
     "output_type": "execute_result"
    }
   ],
   "source": [
    "df_green.count()"
   ]
  },
  {
   "cell_type": "code",
   "execution_count": 9,
   "metadata": {},
   "outputs": [
    {
     "name": "stderr",
     "output_type": "stream",
     "text": [
      "/home/rizky/spark/spark-3.3.2-bin-hadoop3/python/pyspark/sql/dataframe.py:229: FutureWarning: Deprecated in 2.0, use createOrReplaceTempView instead.\n",
      "  warnings.warn(\"Deprecated in 2.0, use createOrReplaceTempView instead.\", FutureWarning)\n"
     ]
    }
   ],
   "source": [
    "df_green.registerTempTable('green')"
   ]
  },
  {
   "cell_type": "code",
   "execution_count": 23,
   "metadata": {},
   "outputs": [
    {
     "name": "stdout",
     "output_type": "stream",
     "text": [
      "+--------+-------------------+-------------------+------------+------------+\n",
      "|VendorID|    pickup_datetime|   dropoff_datetime|PULocationID|DOLocationID|\n",
      "+--------+-------------------+-------------------+------------+------------+\n",
      "|       2|2020-01-23 13:10:15|2020-01-23 13:38:16|          74|         130|\n",
      "|       2|2020-01-15 16:56:36|2020-01-15 17:19:05|          97|          33|\n",
      "|       1|2020-01-16 05:55:12|2020-01-16 06:30:08|          82|          68|\n",
      "|       2|2020-01-14 12:50:42|2020-01-14 12:55:46|          75|          74|\n",
      "|       2|2020-01-07 06:36:27|2020-01-07 06:48:27|         244|          74|\n",
      "|       2|2020-01-04 10:28:49|2020-01-04 10:32:45|          42|          41|\n",
      "|       2|2020-01-19 12:30:08|2020-01-19 12:40:53|          74|         166|\n",
      "|       1|2020-01-04 20:44:28|2020-01-04 20:52:24|         129|         129|\n",
      "|       2|2020-01-21 23:13:47|2020-01-21 23:17:31|          61|          61|\n",
      "|       2|2020-01-12 11:53:00|2020-01-12 11:57:33|           7|         179|\n",
      "+--------+-------------------+-------------------+------------+------------+\n",
      "\n"
     ]
    }
   ],
   "source": [
    "spark.sql(\"\"\"\n",
    "SELECT VendorID, pickup_datetime, dropoff_datetime, PULocationID, DOLocationID\n",
    "FROM green\n",
    "LIMIT 10;\n",
    "\"\"\").show()"
   ]
  },
  {
   "cell_type": "code",
   "execution_count": 12,
   "metadata": {},
   "outputs": [
    {
     "name": "stderr",
     "output_type": "stream",
     "text": [
      "[Stage 13:>                                                         (0 + 2) / 2]\r"
     ]
    },
    {
     "name": "stdout",
     "output_type": "stream",
     "text": [
      "+-------------------+------------+----------------------------+--------------+\n",
      "|         hour_month|revenue_zone|revenue_monthly_total_amount|number_records|\n",
      "+-------------------+------------+----------------------------+--------------+\n",
      "|2008-12-31 22:00:00|         193|                         0.0|             1|\n",
      "|2008-12-31 23:00:00|         166|                        11.3|             1|\n",
      "|2008-12-31 23:00:00|         193|                         0.0|             2|\n",
      "|2008-12-31 23:00:00|         264|                         0.0|             1|\n",
      "|2009-01-01 00:00:00|           7|                         9.8|             1|\n",
      "|2009-01-01 00:00:00|          41|          15.850000000000001|             2|\n",
      "|2009-01-01 00:00:00|          42|                         8.3|             1|\n",
      "|2009-01-01 00:00:00|          74|                         9.8|             1|\n",
      "|2009-01-01 00:00:00|          75|           98.39999999999999|             2|\n",
      "|2009-01-01 00:00:00|         116|                         7.3|             1|\n",
      "|2009-01-01 00:00:00|         130|                        11.8|             1|\n",
      "|2009-01-01 00:00:00|         193|          12.350000000000001|             8|\n",
      "|2009-01-01 00:00:00|         264|                         0.0|             1|\n",
      "|2009-01-01 01:00:00|          41|                         0.0|             2|\n",
      "|2009-01-01 01:00:00|          49|                        11.8|             1|\n",
      "|2009-01-01 01:00:00|          75|                         6.3|             1|\n",
      "|2009-01-01 01:00:00|         130|                        24.8|             1|\n",
      "|2009-01-01 01:00:00|         152|                        15.3|             1|\n",
      "|2009-01-01 01:00:00|         193|                         0.0|             2|\n",
      "|2009-01-01 01:00:00|         244|                         8.8|             1|\n",
      "+-------------------+------------+----------------------------+--------------+\n",
      "only showing top 20 rows\n",
      "\n"
     ]
    },
    {
     "name": "stderr",
     "output_type": "stream",
     "text": [
      "                                                                                \r"
     ]
    }
   ],
   "source": [
    "df_green_revenue = spark.sql(\"\"\"\n",
    "SELECT\n",
    "    date_trunc('hour', pickup_datetime) AS hour_month,\n",
    "    PULocationID AS revenue_zone,\n",
    "    SUM(total_amount) AS revenue_monthly_total_amount,\n",
    "    COUNT(1) AS number_records\n",
    "FROM\n",
    "    green\n",
    "GROUP BY\n",
    "    1, 2\n",
    "ORDER BY\n",
    "    1, 2\n",
    "\"\"\").show()"
   ]
  },
  {
   "cell_type": "code",
   "execution_count": null,
   "metadata": {},
   "outputs": [],
   "source": []
  },
  {
   "cell_type": "code",
   "execution_count": 13,
   "metadata": {},
   "outputs": [
    {
     "data": {
      "text/plain": [
       "LocationID       int64\n",
       "Borough         object\n",
       "Zone            object\n",
       "service_zone    object\n",
       "dtype: object"
      ]
     },
     "execution_count": 13,
     "metadata": {},
     "output_type": "execute_result"
    }
   ],
   "source": [
    "df_zones_pd = pd.read_csv(\"taxi+_zone_lookup.csv\")\n",
    "df_zones_pd.dtypes"
   ]
  },
  {
   "cell_type": "code",
   "execution_count": 16,
   "metadata": {},
   "outputs": [
    {
     "data": {
      "text/html": [
       "<div>\n",
       "<style scoped>\n",
       "    .dataframe tbody tr th:only-of-type {\n",
       "        vertical-align: middle;\n",
       "    }\n",
       "\n",
       "    .dataframe tbody tr th {\n",
       "        vertical-align: top;\n",
       "    }\n",
       "\n",
       "    .dataframe thead th {\n",
       "        text-align: right;\n",
       "    }\n",
       "</style>\n",
       "<table border=\"1\" class=\"dataframe\">\n",
       "  <thead>\n",
       "    <tr style=\"text-align: right;\">\n",
       "      <th></th>\n",
       "      <th>LocationID</th>\n",
       "      <th>Borough</th>\n",
       "      <th>Zone</th>\n",
       "      <th>service_zone</th>\n",
       "    </tr>\n",
       "  </thead>\n",
       "  <tbody>\n",
       "    <tr>\n",
       "      <th>0</th>\n",
       "      <td>1</td>\n",
       "      <td>EWR</td>\n",
       "      <td>Newark Airport</td>\n",
       "      <td>EWR</td>\n",
       "    </tr>\n",
       "    <tr>\n",
       "      <th>1</th>\n",
       "      <td>2</td>\n",
       "      <td>Queens</td>\n",
       "      <td>Jamaica Bay</td>\n",
       "      <td>Boro Zone</td>\n",
       "    </tr>\n",
       "    <tr>\n",
       "      <th>2</th>\n",
       "      <td>3</td>\n",
       "      <td>Bronx</td>\n",
       "      <td>Allerton/Pelham Gardens</td>\n",
       "      <td>Boro Zone</td>\n",
       "    </tr>\n",
       "    <tr>\n",
       "      <th>3</th>\n",
       "      <td>4</td>\n",
       "      <td>Manhattan</td>\n",
       "      <td>Alphabet City</td>\n",
       "      <td>Yellow Zone</td>\n",
       "    </tr>\n",
       "    <tr>\n",
       "      <th>4</th>\n",
       "      <td>5</td>\n",
       "      <td>Staten Island</td>\n",
       "      <td>Arden Heights</td>\n",
       "      <td>Boro Zone</td>\n",
       "    </tr>\n",
       "  </tbody>\n",
       "</table>\n",
       "</div>"
      ],
      "text/plain": [
       "   LocationID        Borough                     Zone service_zone\n",
       "0           1            EWR           Newark Airport          EWR\n",
       "1           2         Queens              Jamaica Bay    Boro Zone\n",
       "2           3          Bronx  Allerton/Pelham Gardens    Boro Zone\n",
       "3           4      Manhattan            Alphabet City  Yellow Zone\n",
       "4           5  Staten Island            Arden Heights    Boro Zone"
      ]
     },
     "execution_count": 16,
     "metadata": {},
     "output_type": "execute_result"
    }
   ],
   "source": [
    "df_zones_pd.head(5)"
   ]
  },
  {
   "cell_type": "code",
   "execution_count": 17,
   "metadata": {},
   "outputs": [],
   "source": [
    "zones_schema = types.StructType([\n",
    "    types.StructField('LocationID', types.IntegerType(), True),\n",
    "    types.StructField('Borough', types.StringType(), True),\n",
    "    types.StructField('Zone', types.StringType(), True),\n",
    "    types.StructField('service_zone', types.StringType(), True)\n",
    "])"
   ]
  },
  {
   "cell_type": "code",
   "execution_count": 20,
   "metadata": {},
   "outputs": [],
   "source": [
    "df_zones = spark.read \\\n",
    "    .option(\"header\", \"true\") \\\n",
    "    .schema(zones_schema) \\\n",
    "    .csv(\"taxi+_zone_lookup.csv\")"
   ]
  },
  {
   "cell_type": "code",
   "execution_count": 24,
   "metadata": {},
   "outputs": [
    {
     "name": "stdout",
     "output_type": "stream",
     "text": [
      "+----------+-------------+--------------------+------------+\n",
      "|LocationID|      Borough|                Zone|service_zone|\n",
      "+----------+-------------+--------------------+------------+\n",
      "|         1|          EWR|      Newark Airport|         EWR|\n",
      "|         2|       Queens|         Jamaica Bay|   Boro Zone|\n",
      "|         3|        Bronx|Allerton/Pelham G...|   Boro Zone|\n",
      "|         4|    Manhattan|       Alphabet City| Yellow Zone|\n",
      "|         5|Staten Island|       Arden Heights|   Boro Zone|\n",
      "|         6|Staten Island|Arrochar/Fort Wad...|   Boro Zone|\n",
      "|         7|       Queens|             Astoria|   Boro Zone|\n",
      "|         8|       Queens|        Astoria Park|   Boro Zone|\n",
      "|         9|       Queens|          Auburndale|   Boro Zone|\n",
      "|        10|       Queens|        Baisley Park|   Boro Zone|\n",
      "|        11|     Brooklyn|          Bath Beach|   Boro Zone|\n",
      "|        12|    Manhattan|        Battery Park| Yellow Zone|\n",
      "|        13|    Manhattan|   Battery Park City| Yellow Zone|\n",
      "|        14|     Brooklyn|           Bay Ridge|   Boro Zone|\n",
      "|        15|       Queens|Bay Terrace/Fort ...|   Boro Zone|\n",
      "|        16|       Queens|             Bayside|   Boro Zone|\n",
      "|        17|     Brooklyn|             Bedford|   Boro Zone|\n",
      "|        18|        Bronx|        Bedford Park|   Boro Zone|\n",
      "|        19|       Queens|           Bellerose|   Boro Zone|\n",
      "|        20|        Bronx|             Belmont|   Boro Zone|\n",
      "+----------+-------------+--------------------+------------+\n",
      "only showing top 20 rows\n",
      "\n"
     ]
    }
   ],
   "source": [
    "df_zones.show()"
   ]
  },
  {
   "cell_type": "code",
   "execution_count": 25,
   "metadata": {},
   "outputs": [
    {
     "name": "stderr",
     "output_type": "stream",
     "text": [
      "/home/rizky/spark/spark-3.3.2-bin-hadoop3/python/pyspark/sql/dataframe.py:229: FutureWarning: Deprecated in 2.0, use createOrReplaceTempView instead.\n",
      "  warnings.warn(\"Deprecated in 2.0, use createOrReplaceTempView instead.\", FutureWarning)\n"
     ]
    }
   ],
   "source": [
    "df_zones.registerTempTable('zones')"
   ]
  },
  {
   "cell_type": "code",
   "execution_count": 28,
   "metadata": {},
   "outputs": [
    {
     "name": "stdout",
     "output_type": "stream",
     "text": [
      "+--------+-------------------+-------------------+------------------+----------+------------+------------+---------------+-------------+-----------+-----+-------+----------+------------+---------+---------------------+------------+------------+---------+--------------------+----------+---------+--------------------+------------+\n",
      "|VendorID|    pickup_datetime|   dropoff_datetime|store_and_fwd_flag|RatecodeID|PULocationID|DOLocationID|passenger_count|trip_distance|fare_amount|extra|mta_tax|tip_amount|tolls_amount|ehail_fee|improvement_surcharge|total_amount|payment_type|trip_type|congestion_surcharge|LocationID|  Borough|                Zone|service_zone|\n",
      "+--------+-------------------+-------------------+------------------+----------+------------+------------+---------------+-------------+-----------+-----+-------+----------+------------+---------+---------------------+------------+------------+---------+--------------------+----------+---------+--------------------+------------+\n",
      "|       2|2020-01-23 13:10:15|2020-01-23 13:38:16|                 N|         1|          74|         130|              1|        12.77|       36.0|  0.0|    0.5|      2.05|        6.12|     null|                  0.3|       44.97|           1|        1|                 0.0|        74|Manhattan|   East Harlem North|   Boro Zone|\n",
      "|       2|2020-01-15 16:56:36|2020-01-15 17:19:05|                 N|         1|          97|          33|              1|         2.69|       15.0|  1.0|    0.5|       0.0|         0.0|     null|                  0.3|        16.8|           2|        1|                 0.0|        97| Brooklyn|         Fort Greene|   Boro Zone|\n",
      "|       1|2020-01-16 05:55:12|2020-01-16 06:30:08|                 N|         1|          82|          68|              1|         10.3|       33.5| 2.75|    0.5|       0.0|         6.0|     null|                  0.3|       43.05|           3|        1|                2.75|        82|   Queens|            Elmhurst|   Boro Zone|\n",
      "|       2|2020-01-14 12:50:42|2020-01-14 12:55:46|                 N|         1|          75|          74|              1|         1.31|        6.0|  0.0|    0.5|       0.0|         0.0|     null|                  0.3|         6.8|           1|        1|                 0.0|        75|Manhattan|   East Harlem South|   Boro Zone|\n",
      "|       2|2020-01-07 06:36:27|2020-01-07 06:48:27|                 N|         1|         244|          74|              1|         3.05|       11.5|  0.0|    0.5|      3.08|         0.0|     null|                  0.3|       15.38|           1|        1|                 0.0|       244|Manhattan|Washington Height...|   Boro Zone|\n",
      "|       2|2020-01-04 10:28:49|2020-01-04 10:32:45|                 N|         1|          42|          41|              1|         0.77|        5.0|  0.0|    0.5|      1.16|         0.0|     null|                  0.3|        6.96|           1|        1|                 0.0|        42|Manhattan|Central Harlem North|   Boro Zone|\n",
      "|       2|2020-01-19 12:30:08|2020-01-19 12:40:53|                 N|         1|          74|         166|              1|         1.93|        9.0|  0.0|    0.5|      1.96|         0.0|     null|                  0.3|       11.76|           1|        1|                 0.0|        74|Manhattan|   East Harlem North|   Boro Zone|\n",
      "|       1|2020-01-04 20:44:28|2020-01-04 20:52:24|                 N|         1|         129|         129|              1|          2.2|        9.5|  0.5|    0.5|       2.0|         0.0|     null|                  0.3|        12.8|           1|        1|                 0.0|       129|   Queens|     Jackson Heights|   Boro Zone|\n",
      "|       2|2020-01-21 23:13:47|2020-01-21 23:17:31|                 N|         1|          61|          61|              1|         0.85|        5.0|  0.5|    0.5|       0.0|         0.0|     null|                  0.3|         6.3|           2|        1|                 0.0|        61| Brooklyn| Crown Heights North|   Boro Zone|\n",
      "|       2|2020-01-12 11:53:00|2020-01-12 11:57:33|                 N|         1|           7|         179|              1|         0.92|        5.5|  0.0|    0.5|       0.0|         0.0|     null|                  0.3|         6.3|           2|        1|                 0.0|         7|   Queens|             Astoria|   Boro Zone|\n",
      "|       2|2020-01-12 20:53:46|2020-01-12 20:59:01|                 N|         1|          74|          42|              1|         1.33|        6.5|  0.5|    0.5|       0.0|         0.0|     null|                  0.3|         7.8|           2|        1|                 0.0|        74|Manhattan|   East Harlem North|   Boro Zone|\n",
      "|       2|2020-01-17 22:33:35|2020-01-17 22:47:30|                 N|         1|          74|         140|              1|         3.02|       12.0|  0.5|    0.5|      3.21|         0.0|     null|                  0.3|       19.26|           1|        1|                2.75|        74|Manhattan|   East Harlem North|   Boro Zone|\n",
      "|       2|2020-01-05 11:46:31|2020-01-05 11:53:31|                 N|         1|          17|          97|              1|          0.0|        5.5|  0.0|    0.5|       0.0|         0.0|     null|                  0.3|         6.3|           2|        1|                 0.0|        17| Brooklyn|             Bedford|   Boro Zone|\n",
      "|       2|2020-01-17 12:03:20|2020-01-17 12:08:28|                 N|         1|         166|         166|              1|          0.9|        5.5|  0.0|    0.5|       0.0|         0.0|     null|                  0.3|         6.3|           2|        1|                 0.0|       166|Manhattan| Morningside Heights|   Boro Zone|\n",
      "|       2|2020-01-08 23:22:35|2020-01-08 23:27:05|                 N|         1|         210|         210|              1|         0.92|        5.5|  0.5|    0.5|       0.8|         0.0|     null|                  0.3|         7.6|           1|        1|                 0.0|       210| Brooklyn|      Sheepshead Bay|   Boro Zone|\n",
      "|       2|2020-01-10 22:39:31|2020-01-10 22:47:32|                 N|         1|          95|         135|              1|         1.85|        8.5|  0.5|    0.5|      2.45|         0.0|     null|                  0.3|       12.25|           1|        1|                 0.0|        95|   Queens|        Forest Hills|   Boro Zone|\n",
      "|       2|2020-01-03 21:19:11|2020-01-03 21:35:10|                 N|         5|         196|          92|              1|         2.68|       22.0|  0.0|    0.0|      0.01|         0.0|     null|                  0.3|       22.31|           1|        2|                 0.0|       196|   Queens|           Rego Park|   Boro Zone|\n",
      "|       2|2020-01-17 16:15:44|2020-01-17 16:21:30|                 N|         1|          42|          42|              1|         0.69|        6.0|  1.0|    0.5|       0.0|         0.0|     null|                  0.3|         7.8|           2|        1|                 0.0|        42|Manhattan|Central Harlem North|   Boro Zone|\n",
      "|       1|2020-01-06 05:02:38|2020-01-06 05:16:27|                 N|         1|          76|          72|              1|          3.2|       12.5|  0.5|    0.5|       0.0|         0.0|     null|                  0.3|        13.8|           1|        1|                 0.0|        76| Brooklyn|       East New York|   Boro Zone|\n",
      "|       2|2020-01-03 08:00:47|2020-01-03 08:15:39|                 N|         1|          39|          39|              1|          2.3|       12.0|  0.0|    0.5|       0.0|         0.0|     null|                  0.3|        12.8|           1|        1|                 0.0|        39| Brooklyn|            Canarsie|   Boro Zone|\n",
      "+--------+-------------------+-------------------+------------------+----------+------------+------------+---------------+-------------+-----------+-----+-------+----------+------------+---------+---------------------+------------+------------+---------+--------------------+----------+---------+--------------------+------------+\n",
      "only showing top 20 rows\n",
      "\n"
     ]
    }
   ],
   "source": [
    "df_green_revenue = spark.sql(\"\"\"\n",
    "SELECT\n",
    "    *\n",
    "FROM\n",
    "    green AS g, zones AS z\n",
    "WHERE\n",
    "    g.PULocationID = z.LocationID\n",
    "\"\"\").show()"
   ]
  },
  {
   "cell_type": "code",
   "execution_count": null,
   "metadata": {},
   "outputs": [],
   "source": []
  }
 ],
 "metadata": {
  "kernelspec": {
   "display_name": "env",
   "language": "python",
   "name": "python3"
  },
  "language_info": {
   "codemirror_mode": {
    "name": "ipython",
    "version": 3
   },
   "file_extension": ".py",
   "mimetype": "text/x-python",
   "name": "python",
   "nbconvert_exporter": "python",
   "pygments_lexer": "ipython3",
   "version": "3.9.2"
  },
  "orig_nbformat": 4
 },
 "nbformat": 4,
 "nbformat_minor": 2
}
